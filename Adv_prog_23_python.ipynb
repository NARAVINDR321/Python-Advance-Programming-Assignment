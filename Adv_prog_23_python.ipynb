{
 "cells": [
  {
   "cell_type": "markdown",
   "metadata": {},
   "source": [
    "# Advanced Programming Assignment 23"
   ]
  },
  {
   "cell_type": "code",
   "execution_count": 150,
   "metadata": {},
   "outputs": [],
   "source": [
    "# Q.1.\n",
    "\n",
    "class Sudoku:\n",
    "    def __init__(self, lst):\n",
    "        self.board = []\n",
    "        for i in range(0, 81, 9):\n",
    "            self.board.append(list(map(int, lst[i:i+9])))\n",
    "    def get_row(self, n):\n",
    "        return self.board[n]\n",
    "    def get_col(self, n):\n",
    "        return [self.board[x][n] for x in range(9)]\n",
    "    def get_sqr(self, *pos):\n",
    "        ans = []\n",
    "        if len(pos) == 1:\n",
    "            start_x = (pos[0] % 3) * 3\n",
    "            start_y = pos[0] // 3 * 3\n",
    "            \n",
    "            l = []\n",
    "            for i in range(start_y, start_y + 3):\n",
    "                l.append(self.board[i][start_x:start_x+3])\n",
    "            return l\n",
    "        elif len(pos) == 2:\n",
    "            ranges = [(0, 2), (3, 5), (6, 8)]\n",
    "            row, col = -1, -1\n",
    "            for i in range(len(ranges)):\n",
    "                if pos[0] >= ranges[i][0] and pos[0] <= ranges[i][1]:\n",
    "                    row = i\n",
    "                    break\n",
    "            for i in range(len(ranges)):\n",
    "                if pos[1] >= ranges[i][0] and pos[1] <= ranges[i][1]:\n",
    "                    col = i\n",
    "                    break\n",
    "            return self.get_sqr(row * 3 + col)"
   ]
  },
  {
   "cell_type": "code",
   "execution_count": 151,
   "metadata": {},
   "outputs": [],
   "source": [
    "game = Sudoku(\"417950030000000700060007000050009106800600000000003400900005000000430000200701580\")"
   ]
  },
  {
   "cell_type": "code",
   "execution_count": 152,
   "metadata": {},
   "outputs": [
    {
     "data": {
      "text/plain": [
       "[[4, 1, 7, 9, 5, 0, 0, 3, 0],\n",
       " [0, 0, 0, 0, 0, 0, 7, 0, 0],\n",
       " [0, 6, 0, 0, 0, 7, 0, 0, 0],\n",
       " [0, 5, 0, 0, 0, 9, 1, 0, 6],\n",
       " [8, 0, 0, 6, 0, 0, 0, 0, 0],\n",
       " [0, 0, 0, 0, 0, 3, 4, 0, 0],\n",
       " [9, 0, 0, 0, 0, 5, 0, 0, 0],\n",
       " [0, 0, 0, 4, 3, 0, 0, 0, 0],\n",
       " [2, 0, 0, 7, 0, 1, 5, 8, 0]]"
      ]
     },
     "execution_count": 152,
     "metadata": {},
     "output_type": "execute_result"
    }
   ],
   "source": [
    "game.board"
   ]
  },
  {
   "cell_type": "code",
   "execution_count": 153,
   "metadata": {},
   "outputs": [
    {
     "data": {
      "text/plain": [
       "[4, 1, 7, 9, 5, 0, 0, 3, 0]"
      ]
     },
     "execution_count": 153,
     "metadata": {},
     "output_type": "execute_result"
    }
   ],
   "source": [
    "game.get_row(0)"
   ]
  },
  {
   "cell_type": "code",
   "execution_count": 154,
   "metadata": {},
   "outputs": [
    {
     "data": {
      "text/plain": [
       "[0, 0, 0, 6, 0, 0, 0, 0, 0]"
      ]
     },
     "execution_count": 154,
     "metadata": {},
     "output_type": "execute_result"
    }
   ],
   "source": [
    "game.get_col(8)"
   ]
  },
  {
   "cell_type": "code",
   "execution_count": 155,
   "metadata": {},
   "outputs": [
    {
     "data": {
      "text/plain": [
       "[[9, 5, 0], [0, 0, 0], [0, 0, 7]]"
      ]
     },
     "execution_count": 155,
     "metadata": {},
     "output_type": "execute_result"
    }
   ],
   "source": [
    "game.get_sqr(1)"
   ]
  },
  {
   "cell_type": "code",
   "execution_count": 156,
   "metadata": {},
   "outputs": [
    {
     "data": {
      "text/plain": [
       "[[0, 3, 0], [7, 0, 0], [0, 0, 0]]"
      ]
     },
     "execution_count": 156,
     "metadata": {},
     "output_type": "execute_result"
    }
   ],
   "source": [
    "game.get_sqr(1, 8)"
   ]
  },
  {
   "cell_type": "code",
   "execution_count": 157,
   "metadata": {},
   "outputs": [
    {
     "data": {
      "text/plain": [
       "[[0, 0, 5], [4, 3, 0], [7, 0, 1]]"
      ]
     },
     "execution_count": 157,
     "metadata": {},
     "output_type": "execute_result"
    }
   ],
   "source": [
    "game.get_sqr(8, 3)"
   ]
  },
  {
   "cell_type": "code",
   "execution_count": 19,
   "metadata": {},
   "outputs": [],
   "source": [
    "# Q.2.\n",
    "\n",
    "class ListNode:\n",
    "    def __init__(self, val=0, next=None):\n",
    "        self.val = val\n",
    "        self.next = next\n",
    "    def add_data(self, data):\n",
    "        curr = self\n",
    "        while curr.next:\n",
    "            curr = curr.next\n",
    "        for d in data:\n",
    "            n = ListNode(d)\n",
    "            curr.next = n\n",
    "            curr = curr.next\n",
    "    def get_data(self):\n",
    "        curr = self\n",
    "        data = [self.val]\n",
    "        while curr.next:\n",
    "            data.append(curr.next.val)\n",
    "            curr = curr.next\n",
    "        return data\n",
    "    "
   ]
  },
  {
   "cell_type": "code",
   "execution_count": 48,
   "metadata": {},
   "outputs": [],
   "source": [
    "def add_two_numbers(ll1, ll2):\n",
    "    d1 = list(map(str, ll1.get_data()))\n",
    "    num1 = int(\"\".join(d1))\n",
    "    d2 = list(map(str, ll2.get_data()))\n",
    "    num2 = int(\"\".join(d2))\n",
    "    num3 = num1 + num2\n",
    "    rev3 = str(num3)[::-1]\n",
    "    ll3 = ListNode(int(rev3[0]))\n",
    "    curr = ll3\n",
    "    for i in range(1, len(rev3)):\n",
    "        curr.next = ListNode(int(rev3[i]))\n",
    "        curr = curr.next\n",
    "    return ll3\n"
   ]
  },
  {
   "cell_type": "code",
   "execution_count": 52,
   "metadata": {},
   "outputs": [
    {
     "name": "stdout",
     "output_type": "stream",
     "text": [
      "[2, 4, 3]\n",
      "[5, 6, 4]\n",
      "807\n",
      "[7, 0, 8]\n",
      "[0]\n",
      "[0]\n",
      "0\n",
      "[0]\n"
     ]
    }
   ],
   "source": [
    "lt1 = ListNode(2)\n",
    "lt1.add_data([4, 3])\n",
    "lt2 = ListNode(5)\n",
    "lt2.add_data([6, 4])\n",
    "print(lt1.get_data()) # [2, 4, 3]\n",
    "print(lt2.get_data()) # [5, 6, 4]\n",
    "print(342 + 465) # 807\n",
    "print(add_two_numbers(lt1, lt2).get_data()) #[7, 0, 8]\n",
    "lt1 = ListNode(0)\n",
    "lt2 = ListNode(0)\n",
    "print(lt1.get_data()) # [0]\n",
    "\n",
    "print(lt2.get_data()) # [0]\n",
    "print(0 + 0) # 0\n",
    "print(add_two_numbers(lt1, lt2).get_data()) #[0]"
   ]
  },
  {
   "cell_type": "code",
   "execution_count": 53,
   "metadata": {},
   "outputs": [
    {
     "name": "stdout",
     "output_type": "stream",
     "text": [
      "[9, 9, 9, 9, 9, 9, 9]\n",
      "[9, 9, 9, 9]\n",
      "10009998\n",
      "[8, 9, 9, 9, 0, 0, 0, 1]\n"
     ]
    }
   ],
   "source": [
    "lt1 = ListNode(9)\n",
    "lt1.add_data([9,9,9,9,9,9])\n",
    "lt2 = ListNode(9)\n",
    "lt2.add_data([9,9,9])\n",
    "print(lt1.get_data()) # [9, 9, 9, 9, 9, 9, 9]\n",
    "print(lt2.get_data()) # [9, 9, 9, 9]\n",
    "print(9999999 + 9999) # 10009998\n",
    "print(add_two_numbers(lt1, lt2).get_data()) #[8, 9, 9, 9, 0, 0, 0, 1]"
   ]
  },
  {
   "cell_type": "code",
   "execution_count": 105,
   "metadata": {},
   "outputs": [],
   "source": [
    "# Q.3.\n",
    "\n",
    "class CoffeeShop:\n",
    "    def __init__(self, name, menu = [], orders = []):\n",
    "        self.name = name\n",
    "        self.menu = menu\n",
    "        self.orders = orders\n",
    "    def add_order(self, order):\n",
    "        for item in self.menu:\n",
    "            if order == item[\"name\"]:\n",
    "                self.orders.append(order)\n",
    "                return \"Order added!\"\n",
    "        return \"This item is currently unavailable!\"\n",
    "    def fulfill_order(self):\n",
    "        if self.orders == []:\n",
    "            return \"All orders have been fulfilled!\"\n",
    "        else:\n",
    "            order = self.orders[0]\n",
    "            self.orders.remove(order)\n",
    "            return \"The \" + order + \" is ready!\"\n",
    "    def list_orders(self):\n",
    "        return self.orders\n",
    "    def due_amount(self):\n",
    "        amt = 0.0\n",
    "        for item in self.menu:\n",
    "            if item[\"name\"] in self.orders:\n",
    "                amt += item[\"price\"]\n",
    "        return amt\n",
    "    def cheapest_item(self):\n",
    "        ch_item = \"\"\n",
    "        for item in self.menu:\n",
    "            if ch_item == \"\":\n",
    "                ch = item[\"price\"]\n",
    "                ch_item = item[\"name\"]\n",
    "            elif item[\"price\"] < ch:\n",
    "                ch = item[\"price\"]\n",
    "                ch_item = item[\"name\"]\n",
    "        if ch_item == \"\":\n",
    "            return \"No items in menu\"\n",
    "        else:\n",
    "            return ch_item\n",
    "    def drinks_only(self):\n",
    "        drinks = []\n",
    "        for item in self.menu:\n",
    "            if item[\"type\"] == \"drinks\":\n",
    "                drinks.append(item[\"name\"])\n",
    "        return drinks\n",
    "    def food_only(self):\n",
    "        food = []\n",
    "        for item in self.menu:\n",
    "            if item[\"type\"] == \"food\":\n",
    "                food.append(item[\"name\"])\n",
    "        return food\n",
    "                "
   ]
  },
  {
   "cell_type": "code",
   "execution_count": 106,
   "metadata": {},
   "outputs": [],
   "source": [
    "menu = [{'name': 'orange juice', 'price': 44, 'type': 'drinks'},\n",
    " {'name': 'lemonade', 'price': 2, 'type': 'drinks'},\n",
    " {'name': 'cranberry juice', 'price': 40, 'type': 'drinks'},\n",
    " {'name': 'pineapple juice', 'price': 21, 'type': 'drinks'},\n",
    " {'name': 'lemon iced tea', 'price': 18, 'type': 'drinks'},\n",
    " {'name': 'vanilla chai latte', 'price': 44, 'type': 'drinks'},\n",
    " {'name': 'hot chocolate', 'price': 23, 'type': 'drinks'},\n",
    " {'name': 'iced coffee', 'price': 43, 'type': 'drinks'},\n",
    " {'name': 'tuna sandwich', 'price': 14, 'type': 'food'},\n",
    " {'name': 'ham and cheese sandwich', 'price': 25, 'type': 'food'},\n",
    " {'name': 'bacon and egg', 'price': 5, 'type': 'food'},\n",
    " {'name': 'steak', 'price': 8, 'type': 'food'},\n",
    " {'name': 'hamburger', 'price': 14, 'type': 'food'},\n",
    " {'name': 'cinnamon roll', 'price': 21, 'type': 'food'}]"
   ]
  },
  {
   "cell_type": "code",
   "execution_count": 107,
   "metadata": {},
   "outputs": [],
   "source": [
    "tcs = CoffeeShop(\"Starbucks\", menu)"
   ]
  },
  {
   "cell_type": "code",
   "execution_count": 108,
   "metadata": {},
   "outputs": [
    {
     "data": {
      "text/plain": [
       "'This item is currently unavailable!'"
      ]
     },
     "execution_count": 108,
     "metadata": {},
     "output_type": "execute_result"
    }
   ],
   "source": [
    "tcs.add_order(\"hot cocoa\")"
   ]
  },
  {
   "cell_type": "code",
   "execution_count": 109,
   "metadata": {},
   "outputs": [
    {
     "data": {
      "text/plain": [
       "'This item is currently unavailable!'"
      ]
     },
     "execution_count": 109,
     "metadata": {},
     "output_type": "execute_result"
    }
   ],
   "source": [
    "tcs.add_order(\"iced tea\")"
   ]
  },
  {
   "cell_type": "code",
   "execution_count": 110,
   "metadata": {},
   "outputs": [
    {
     "data": {
      "text/plain": [
       "'Order added!'"
      ]
     },
     "execution_count": 110,
     "metadata": {},
     "output_type": "execute_result"
    }
   ],
   "source": [
    "tcs.add_order(\"cinnamon roll\")"
   ]
  },
  {
   "cell_type": "code",
   "execution_count": 111,
   "metadata": {},
   "outputs": [
    {
     "data": {
      "text/plain": [
       "'Order added!'"
      ]
     },
     "execution_count": 111,
     "metadata": {},
     "output_type": "execute_result"
    }
   ],
   "source": [
    "tcs.add_order(\"iced coffee\")"
   ]
  },
  {
   "cell_type": "code",
   "execution_count": 112,
   "metadata": {},
   "outputs": [
    {
     "data": {
      "text/plain": [
       "['cinnamon roll', 'iced coffee']"
      ]
     },
     "execution_count": 112,
     "metadata": {},
     "output_type": "execute_result"
    }
   ],
   "source": [
    "tcs.list_orders()"
   ]
  },
  {
   "cell_type": "code",
   "execution_count": 113,
   "metadata": {},
   "outputs": [
    {
     "data": {
      "text/plain": [
       "64.0"
      ]
     },
     "execution_count": 113,
     "metadata": {},
     "output_type": "execute_result"
    }
   ],
   "source": [
    "tcs.due_amount()"
   ]
  },
  {
   "cell_type": "code",
   "execution_count": 114,
   "metadata": {},
   "outputs": [
    {
     "data": {
      "text/plain": [
       "'The cinnamon roll is ready!'"
      ]
     },
     "execution_count": 114,
     "metadata": {},
     "output_type": "execute_result"
    }
   ],
   "source": [
    "tcs.fulfill_order()"
   ]
  },
  {
   "cell_type": "code",
   "execution_count": 115,
   "metadata": {},
   "outputs": [
    {
     "data": {
      "text/plain": [
       "'The iced coffee is ready!'"
      ]
     },
     "execution_count": 115,
     "metadata": {},
     "output_type": "execute_result"
    }
   ],
   "source": [
    "tcs.fulfill_order()"
   ]
  },
  {
   "cell_type": "code",
   "execution_count": 116,
   "metadata": {},
   "outputs": [
    {
     "data": {
      "text/plain": [
       "'All orders have been fulfilled!'"
      ]
     },
     "execution_count": 116,
     "metadata": {},
     "output_type": "execute_result"
    }
   ],
   "source": [
    "tcs.fulfill_order()"
   ]
  },
  {
   "cell_type": "code",
   "execution_count": 117,
   "metadata": {},
   "outputs": [
    {
     "data": {
      "text/plain": [
       "[]"
      ]
     },
     "execution_count": 117,
     "metadata": {},
     "output_type": "execute_result"
    }
   ],
   "source": [
    "tcs.list_orders()"
   ]
  },
  {
   "cell_type": "code",
   "execution_count": 118,
   "metadata": {},
   "outputs": [
    {
     "data": {
      "text/plain": [
       "0.0"
      ]
     },
     "execution_count": 118,
     "metadata": {},
     "output_type": "execute_result"
    }
   ],
   "source": [
    "tcs.due_amount()"
   ]
  },
  {
   "cell_type": "code",
   "execution_count": 119,
   "metadata": {},
   "outputs": [
    {
     "data": {
      "text/plain": [
       "'lemonade'"
      ]
     },
     "execution_count": 119,
     "metadata": {},
     "output_type": "execute_result"
    }
   ],
   "source": [
    "tcs.cheapest_item()"
   ]
  },
  {
   "cell_type": "code",
   "execution_count": 120,
   "metadata": {},
   "outputs": [
    {
     "data": {
      "text/plain": [
       "['orange juice',\n",
       " 'lemonade',\n",
       " 'cranberry juice',\n",
       " 'pineapple juice',\n",
       " 'lemon iced tea',\n",
       " 'vanilla chai latte',\n",
       " 'hot chocolate',\n",
       " 'iced coffee']"
      ]
     },
     "execution_count": 120,
     "metadata": {},
     "output_type": "execute_result"
    }
   ],
   "source": [
    "tcs.drinks_only()"
   ]
  },
  {
   "cell_type": "code",
   "execution_count": 121,
   "metadata": {},
   "outputs": [
    {
     "data": {
      "text/plain": [
       "['tuna sandwich',\n",
       " 'ham and cheese sandwich',\n",
       " 'bacon and egg',\n",
       " 'steak',\n",
       " 'hamburger',\n",
       " 'cinnamon roll']"
      ]
     },
     "execution_count": 121,
     "metadata": {},
     "output_type": "execute_result"
    }
   ],
   "source": [
    "tcs.food_only()"
   ]
  },
  {
   "cell_type": "code",
   "execution_count": 21,
   "metadata": {},
   "outputs": [],
   "source": [
    "# Q.4.\n",
    "\n",
    "def loneliest_number(start, end):\n",
    "    if end <= start:\n",
    "        return {}\n",
    "    def isPrime(nu):\n",
    "        if nu < 2:\n",
    "            return False\n",
    "        if nu == 2:\n",
    "            return True\n",
    "        for i in range(2, nu//2):\n",
    "            if nu % i == 0:\n",
    "                return False\n",
    "        return True\n",
    "    def lowerPrime(st):\n",
    "        if st <= 2:\n",
    "            return None\n",
    "        for i in range(st-1, 2, -1):\n",
    "            if isPrime(i):\n",
    "                return i\n",
    "    def higherPrime(en):\n",
    "        if en <= 2:\n",
    "            return None\n",
    "        i = en + 1\n",
    "        while True:\n",
    "            if isPrime(i):\n",
    "                return i\n",
    "            i += 1\n",
    "        \n",
    "    prime = {}\n",
    "    lowerP = lowerPrime(start)\n",
    "    higherP = higherPrime(end)\n",
    "    for i in range(start, end + 1):\n",
    "        if isPrime(i):\n",
    "            prime[i] = True\n",
    "        else:\n",
    "            prime[i] = False\n",
    "    closest = {}\n",
    "    for i in range(start, end + 1):\n",
    "        min_d = end - start + 2\n",
    "        for j in range(start, end + 1):\n",
    "            if i == j:\n",
    "                continue\n",
    "            if prime[j] == True:\n",
    "                if abs(i - j) <= min_d:\n",
    "                    if lowerP:\n",
    "                        if abs(i-j) < abs(i-lowerP):\n",
    "                            min_d = abs(i - j)\n",
    "                            closest[i] = (j, min_d)\n",
    "                        else:\n",
    "                            min_d = abs(i-lowerP)\n",
    "                            closest[i] = (lowerP, min_d)\n",
    "                    if higherP:\n",
    "                        if abs(i-j) < abs(i-higherP):\n",
    "                            min_d = abs(i - j)\n",
    "                            closest[i] = (j, min_d)\n",
    "                        else:\n",
    "                            min_d = abs(i-higherP)\n",
    "                            closest[i] = (higherP, min_d)\n",
    "    \n",
    "    max_closest = 0\n",
    "    prime_closest = 0\n",
    "    for i in range(start, end + 1):\n",
    "        if closest[i][1] > max_closest and closest[i][0] != higherP and closest[i][0] != lowerP:\n",
    "            max_closest = closest[i][1]\n",
    "            lonely = i\n",
    "            prime_closest = closest[i][0]\n",
    "    return {\"number\":lonely, \"distance\":max_closest, \"closest\":prime_closest}\n",
    "            \n",
    "                "
   ]
  },
  {
   "cell_type": "code",
   "execution_count": 22,
   "metadata": {},
   "outputs": [
    {
     "data": {
      "text/plain": [
       "{'number': 0, 'distance': 2, 'closest': 2}"
      ]
     },
     "execution_count": 22,
     "metadata": {},
     "output_type": "execute_result"
    }
   ],
   "source": [
    "loneliest_number(0, 22)"
   ]
  },
  {
   "cell_type": "code",
   "execution_count": 23,
   "metadata": {},
   "outputs": [
    {
     "data": {
      "text/plain": [
       "{'number': 53, 'distance': 6, 'closest': 59}"
      ]
     },
     "execution_count": 23,
     "metadata": {},
     "output_type": "execute_result"
    }
   ],
   "source": [
    "loneliest_number(8, 123)"
   ]
  },
  {
   "cell_type": "code",
   "execution_count": 24,
   "metadata": {},
   "outputs": [
    {
     "data": {
      "text/plain": [
       "{'number': 1140, 'distance': 11, 'closest': 1151}"
      ]
     },
     "execution_count": 24,
     "metadata": {},
     "output_type": "execute_result"
    }
   ],
   "source": [
    "loneliest_number(938, 1190)"
   ]
  },
  {
   "cell_type": "code",
   "execution_count": 25,
   "metadata": {},
   "outputs": [
    {
     "data": {
      "text/plain": [
       "{'number': 211, 'distance': 12, 'closest': 223}"
      ]
     },
     "execution_count": 25,
     "metadata": {},
     "output_type": "execute_result"
    }
   ],
   "source": [
    "loneliest_number(120, 1190)"
   ]
  },
  {
   "cell_type": "code",
   "execution_count": 30,
   "metadata": {},
   "outputs": [],
   "source": [
    "# Q.5.\n",
    "\n",
    "class Selfie:\n",
    "    def __init__(self):\n",
    "        self.x = None\n",
    "        self.states = []\n",
    "    def save_state(self):\n",
    "        self.states.append(self.x)\n",
    "    def n_states(self):\n",
    "        return len(self.states)\n",
    "    def recover_state(self, n):\n",
    "        self.x = self.states[n]\n",
    "        return self"
   ]
  },
  {
   "cell_type": "code",
   "execution_count": 31,
   "metadata": {},
   "outputs": [
    {
     "data": {
      "text/plain": [
       "2"
      ]
     },
     "execution_count": 31,
     "metadata": {},
     "output_type": "execute_result"
    }
   ],
   "source": [
    "p = Selfie()\n",
    "p.x = 2\n",
    "p.save_state()\n",
    "p.x = 5\n",
    "p = p.recover_state(0)\n",
    "p.x"
   ]
  },
  {
   "cell_type": "code",
   "execution_count": null,
   "metadata": {},
   "outputs": [],
   "source": []
  }
 ],
 "metadata": {
  "kernelspec": {
   "display_name": "Python 3",
   "language": "python",
   "name": "python3"
  },
  "language_info": {
   "codemirror_mode": {
    "name": "ipython",
    "version": 3
   },
   "file_extension": ".py",
   "mimetype": "text/x-python",
   "name": "python",
   "nbconvert_exporter": "python",
   "pygments_lexer": "ipython3",
   "version": "3.8.5"
  }
 },
 "nbformat": 4,
 "nbformat_minor": 4
}
