{
 "cells": [
  {
   "cell_type": "markdown",
   "metadata": {},
   "source": [
    "# Advanced Programming Assignment 24"
   ]
  },
  {
   "cell_type": "code",
   "execution_count": 30,
   "metadata": {},
   "outputs": [],
   "source": [
    "# Q.1.\n",
    "\n",
    "class NestedIterator:\n",
    "    \n",
    "    def flatten(self, l):\n",
    "        l1 = []\n",
    "        for x in l:\n",
    "            if type(x) == int:\n",
    "                l1.append(x)\n",
    "            else:\n",
    "                ans = self.flatten(x)\n",
    "                l1 += ans\n",
    "        return l1\n",
    "    def __init__(self, lst):\n",
    "        self.lst = self.flatten(lst)\n",
    "        self.index = -1\n",
    "\n",
    "    def next(self):\n",
    "        self.index += 1\n",
    "        if self.index >= len(self.lst):\n",
    "            raise \"Iterator has no more elements\"\n",
    "        else:\n",
    "            return self.lst[self.index]\n",
    "    def hasNext(self):\n",
    "        return (self.index + 1) < len(self.lst)"
   ]
  },
  {
   "cell_type": "code",
   "execution_count": 34,
   "metadata": {},
   "outputs": [
    {
     "name": "stdout",
     "output_type": "stream",
     "text": [
      "[1, 1, 2, 1, 1]\n"
     ]
    }
   ],
   "source": [
    "ni, actual = NestedIterator([[1, 1], 2, [1, 1]]), []\n",
    "while ni.hasNext():\n",
    "    actual.append(ni.next())\n",
    "print(actual)"
   ]
  },
  {
   "cell_type": "code",
   "execution_count": 35,
   "metadata": {},
   "outputs": [
    {
     "name": "stdout",
     "output_type": "stream",
     "text": [
      "[1, 4, 6]\n"
     ]
    }
   ],
   "source": [
    "ni, actual = NestedIterator([1, [4, [6]]]), []\n",
    "while ni.hasNext():\n",
    "    actual.append(ni.next())\n",
    "print(actual)"
   ]
  },
  {
   "cell_type": "code",
   "execution_count": 37,
   "metadata": {},
   "outputs": [
    {
     "data": {
      "text/plain": [
       "[]"
      ]
     },
     "execution_count": 37,
     "metadata": {},
     "output_type": "execute_result"
    }
   ],
   "source": [
    "ni, actual = NestedIterator([[[]], []]), []\n",
    "while ni.hasNext():\n",
    "    actual.append(ni.next())\n",
    "actual"
   ]
  },
  {
   "cell_type": "code",
   "execution_count": 2,
   "metadata": {},
   "outputs": [],
   "source": [
    "# Q.2.\n",
    "\n",
    "import scipy.integrate as integrate\n"
   ]
  },
  {
   "cell_type": "code",
   "execution_count": 13,
   "metadata": {},
   "outputs": [],
   "source": [
    "class Shape:\n",
    "    #currently works only for rectangular shapes\n",
    "    def __init__(self, perimeter, density_func):\n",
    "        self.perimeter = perimeter\n",
    "        self.density_func = density_func\n",
    "        self.area = self.get_area()\n",
    "        self.mass = self.get_mass()\n",
    "        self.mass_center = self.get_mass_center()\n",
    "    def get_area(self):\n",
    "        if len(self.perimeter) == 4:\n",
    "            #rectangle\n",
    "            perimeter = self.perimeter\n",
    "            length = None\n",
    "            breadth = None\n",
    "            if perimeter[1][0] == perimeter[0][0]:\n",
    "                length = abs(perimeter[1][1] - perimeter[0][1])\n",
    "            elif perimeter[1][1] == perimeter[0][1]:\n",
    "                breadth = abs(perimeter[1][0] - perimeter[0][0])\n",
    "            if length:\n",
    "                breadth = abs(perimeter[2][0] - perimeter[1][0])\n",
    "            else:\n",
    "                length = abs(perimeter[2][1] - perimeter[1][1])\n",
    "            return float(length * breadth)\n",
    "    def get_mass(self):\n",
    "        f = self.density_func\n",
    "        xs = [it[0] for it in self.perimeter]\n",
    "        ys = [it[1] for it in self.perimeter]\n",
    "        x_low = min(xs)\n",
    "        x_high = max(xs)\n",
    "        y_low = min(ys)\n",
    "        y_high = max(ys)\n",
    "        val = integrate.dblquad(f, y_low, y_high, lambda x: x_low, lambda x: x_high)[0]\n",
    "        return round(val, 1)\n",
    "    def get_mass_center(self):\n",
    "        pass"
   ]
  },
  {
   "cell_type": "code",
   "execution_count": 14,
   "metadata": {},
   "outputs": [],
   "source": [
    "sh_ex1 = Shape([(1, 1), (3, 1), (3, 2), (1, 2)], lambda x, y: 100 + 100 * x)"
   ]
  },
  {
   "cell_type": "code",
   "execution_count": 15,
   "metadata": {},
   "outputs": [
    {
     "data": {
      "text/plain": [
       "2.0"
      ]
     },
     "execution_count": 15,
     "metadata": {},
     "output_type": "execute_result"
    }
   ],
   "source": [
    "sh_ex1.area"
   ]
  },
  {
   "cell_type": "code",
   "execution_count": 16,
   "metadata": {},
   "outputs": [
    {
     "data": {
      "text/plain": [
       "600.0"
      ]
     },
     "execution_count": 16,
     "metadata": {},
     "output_type": "execute_result"
    }
   ],
   "source": [
    "sh_ex1.mass"
   ]
  },
  {
   "cell_type": "code",
   "execution_count": 89,
   "metadata": {},
   "outputs": [],
   "source": [
    "# Q.3.\n",
    "\n",
    "def tic_tac_toe(game):\n",
    "\n",
    "    length = 3\n",
    "    if len(game) != length:\n",
    "        print(\"Invalid game input\")\n",
    "        return None\n",
    "    for x in range(length):\n",
    "        if len(game[x]) != length:\n",
    "            print(\"Invalid game input\")\n",
    "            return None\n",
    "    \n",
    "    # row match\n",
    "    for x in range(length):\n",
    "        if game[x].count(game[x][0]) == length:\n",
    "            return game[x][0]\n",
    "    \n",
    "    # column match\n",
    "    for x in range(length):\n",
    "        col = [game[i][x] for i in range(length)]\n",
    "        if col.count(col[0]) == length:\n",
    "            return col[0]\n",
    "    \n",
    "    # diagonal match\n",
    "    mid = game[length//2][length//2]\n",
    "    diag1 = [game[i][i] for i in range(length)]\n",
    "    \n",
    "    if diag1.count(diag1[0]) == length:\n",
    "        return diag1[0]\n",
    "    \n",
    "    diag2 = [game[i][length - 1 - i] for i in range(length)]\n",
    "    \n",
    "    if diag2.count(diag2[0]) == length:\n",
    "        return diag2[0]\n",
    "\n",
    "    return \"Draw\""
   ]
  },
  {
   "cell_type": "code",
   "execution_count": 90,
   "metadata": {},
   "outputs": [
    {
     "data": {
      "text/plain": [
       "'X'"
      ]
     },
     "execution_count": 90,
     "metadata": {},
     "output_type": "execute_result"
    }
   ],
   "source": [
    "tic_tac_toe([\n",
    "[\"X\", \"O\", \"X\"],\n",
    "[\"O\", \"X\", \"O\"],\n",
    "[\"O\", \"X\", \"X\"]\n",
    "])"
   ]
  },
  {
   "cell_type": "code",
   "execution_count": 91,
   "metadata": {},
   "outputs": [
    {
     "data": {
      "text/plain": [
       "'O'"
      ]
     },
     "execution_count": 91,
     "metadata": {},
     "output_type": "execute_result"
    }
   ],
   "source": [
    "tic_tac_toe([\n",
    "[\"O\", \"O\", \"O\"],\n",
    "[\"O\", \"X\", \"X\"],\n",
    "[\"E\", \"X\", \"X\"]\n",
    "])"
   ]
  },
  {
   "cell_type": "code",
   "execution_count": 92,
   "metadata": {},
   "outputs": [
    {
     "data": {
      "text/plain": [
       "'Draw'"
      ]
     },
     "execution_count": 92,
     "metadata": {},
     "output_type": "execute_result"
    }
   ],
   "source": [
    "tic_tac_toe([\n",
    "[\"X\", \"X\", \"O\"],\n",
    "[\"O\", \"O\", \"X\"],\n",
    "[\"X\", \"X\", \"O\"]\n",
    "])"
   ]
  },
  {
   "cell_type": "code",
   "execution_count": 13,
   "metadata": {},
   "outputs": [],
   "source": [
    "# Q.4.\n",
    "\n",
    "import re"
   ]
  },
  {
   "cell_type": "code",
   "execution_count": 82,
   "metadata": {},
   "outputs": [],
   "source": [
    "def remove_virus(s):\n",
    "    ans = \"\"\n",
    "    heading, files = s.split(\":\")\n",
    "    ans += (heading + \":\")\n",
    "    files = files.split(\",\")\n",
    "    for file in files:\n",
    "        l = re.findall(\".*virus.exe\", file)\n",
    "        m = re.findall(\".*malware.exe\", file)\n",
    "        if l == [] and m == []:\n",
    "            ans += (file + \",\")\n",
    "        elif l != []:\n",
    "            if l[0].find(\"antivirus.exe\") != -1 or l[0].find(\"notvirus.exe\") != -1:\n",
    "                ans += (file + \",\")\n",
    "        elif m != []:\n",
    "            if m[0].find(\"antimalware.exe\") != -1 or m[0].find(\"notmalware.exe\") != -1:\n",
    "                ans += (file + \",\")\n",
    "    return ans[:-1]"
   ]
  },
  {
   "cell_type": "code",
   "execution_count": 83,
   "metadata": {},
   "outputs": [
    {
     "data": {
      "text/plain": [
       "'PC Files: spotifysetup.exe, dog.jpg'"
      ]
     },
     "execution_count": 83,
     "metadata": {},
     "output_type": "execute_result"
    }
   ],
   "source": [
    "remove_virus(\"PC Files: spotifysetup.exe, virus.exe, dog.jpg\")"
   ]
  },
  {
   "cell_type": "code",
   "execution_count": 84,
   "metadata": {},
   "outputs": [
    {
     "data": {
      "text/plain": [
       "'PC Files: antivirus.exe, cat.pdf'"
      ]
     },
     "execution_count": 84,
     "metadata": {},
     "output_type": "execute_result"
    }
   ],
   "source": [
    "remove_virus(\"PC Files: antivirus.exe, cat.pdf, lethalmalware.exe, dangerousvirus.exe \")"
   ]
  },
  {
   "cell_type": "code",
   "execution_count": 85,
   "metadata": {},
   "outputs": [
    {
     "data": {
      "text/plain": [
       "'PC Files: notvirus.exe, funnycat.gif'"
      ]
     },
     "execution_count": 85,
     "metadata": {},
     "output_type": "execute_result"
    }
   ],
   "source": [
    "remove_virus(\"PC Files: notvirus.exe, funnycat.gif\")"
   ]
  },
  {
   "cell_type": "code",
   "execution_count": 9,
   "metadata": {},
   "outputs": [],
   "source": [
    "# Q.5.\n",
    "\n",
    "def will_hit(eq_s, pos):\n",
    "    x,y = pos\n",
    "    m = None\n",
    "    c = None\n",
    "    m_s = \"\"\n",
    "    c_s = \"\"\n",
    "    neg = False\n",
    "    try:\n",
    "        l, r = eq_s.split(\"x\")\n",
    "        for c in l:\n",
    "            if c == \"-\":\n",
    "                neg = True\n",
    "            if c.isnumeric():\n",
    "                m_s += c\n",
    "        m = int(m_s)\n",
    "        if neg == True:\n",
    "            m = -1 * m\n",
    "        neg = False\n",
    "        for c in r:\n",
    "            if c.isnumeric():\n",
    "                c_s += c   \n",
    "        c = int(c_s)\n",
    "        if neg == True:\n",
    "            c = -1 * c\n",
    "        print(m,c)\n",
    "        if m * x + c == y:\n",
    "            return True\n",
    "        else:\n",
    "            return False\n",
    "    except Exception as e:\n",
    "        print(e)"
   ]
  },
  {
   "cell_type": "code",
   "execution_count": 10,
   "metadata": {},
   "outputs": [
    {
     "name": "stdout",
     "output_type": "stream",
     "text": [
      "2 5\n"
     ]
    },
    {
     "data": {
      "text/plain": [
       "False"
      ]
     },
     "execution_count": 10,
     "metadata": {},
     "output_type": "execute_result"
    }
   ],
   "source": [
    "will_hit(\"y = 2x - 5\", (0, 0))"
   ]
  },
  {
   "cell_type": "code",
   "execution_count": 11,
   "metadata": {},
   "outputs": [
    {
     "name": "stdout",
     "output_type": "stream",
     "text": [
      "-4 6\n"
     ]
    },
    {
     "data": {
      "text/plain": [
       "True"
      ]
     },
     "execution_count": 11,
     "metadata": {},
     "output_type": "execute_result"
    }
   ],
   "source": [
    "will_hit(\"y = -4x + 6\", (1, 2))"
   ]
  },
  {
   "cell_type": "code",
   "execution_count": 12,
   "metadata": {},
   "outputs": [
    {
     "name": "stdout",
     "output_type": "stream",
     "text": [
      "2 6\n"
     ]
    },
    {
     "data": {
      "text/plain": [
       "False"
      ]
     },
     "execution_count": 12,
     "metadata": {},
     "output_type": "execute_result"
    }
   ],
   "source": [
    "will_hit(\"y = 2x + 6\", (3, 2))"
   ]
  },
  {
   "cell_type": "code",
   "execution_count": null,
   "metadata": {},
   "outputs": [],
   "source": []
  }
 ],
 "metadata": {
  "kernelspec": {
   "display_name": "Python 3",
   "language": "python",
   "name": "python3"
  },
  "language_info": {
   "codemirror_mode": {
    "name": "ipython",
    "version": 3
   },
   "file_extension": ".py",
   "mimetype": "text/x-python",
   "name": "python",
   "nbconvert_exporter": "python",
   "pygments_lexer": "ipython3",
   "version": "3.8.5"
  }
 },
 "nbformat": 4,
 "nbformat_minor": 4
}
