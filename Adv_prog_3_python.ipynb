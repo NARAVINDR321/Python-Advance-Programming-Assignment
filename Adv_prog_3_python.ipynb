{
 "cells": [
  {
   "cell_type": "markdown",
   "metadata": {},
   "source": [
    "# Advanced Programming Assignment 3"
   ]
  },
  {
   "cell_type": "code",
   "execution_count": 8,
   "metadata": {},
   "outputs": [],
   "source": [
    "# Q.1.\n",
    "\n",
    "def binary_op(s):\n",
    "    if \"+\" in s:\n",
    "        op_i = s.index(\"+\")\n",
    "        try:\n",
    "            n1 = int(s[:op_i].strip())\n",
    "            n2 = int(s[op_i + 1:].strip())\n",
    "            return n1 + n2\n",
    "        except:\n",
    "            print(\"Invalid string\")\n",
    "    elif \"-\" in s:\n",
    "        op_i = s.index(\"-\")\n",
    "        try:\n",
    "            n1 = int(s[:op_i].strip())\n",
    "            n2 = int(s[op_i + 1:].strip())\n",
    "            return n1 - n2\n",
    "        except:\n",
    "            print(\"Invalid string\")\n",
    "    elif \"*\" in s:\n",
    "        op_i = s.index(\"*\")\n",
    "        \n",
    "        try:\n",
    "            n1 = int(s[:op_i].strip())\n",
    "            n2 = int(s[op_i + 1:].strip())\n",
    "            return n1 * n2\n",
    "        except:\n",
    "            print(\"Invalid string\")\n",
    "    elif \"//\" in s:\n",
    "        op_i = s.index(\"//\")\n",
    "        try:\n",
    "            n1 = int(s[:op_i].strip())\n",
    "            n2 = int(s[op_i + 2:].strip())\n",
    "            if n2 == 0:\n",
    "                return -1\n",
    "            return n1 / n2\n",
    "        except:\n",
    "            print(\"Invalid string\")\n",
    "    else:\n",
    "        print(\"Invalid string\")\n",
    "        \n",
    "        "
   ]
  },
  {
   "cell_type": "code",
   "execution_count": 9,
   "metadata": {},
   "outputs": [
    {
     "name": "stdout",
     "output_type": "stream",
     "text": [
      "5\n",
      "1\n",
      "6\n",
      "2.0\n",
      "-1\n",
      "5\n",
      "Invalid string\n",
      "None\n"
     ]
    }
   ],
   "source": [
    "plus = \"2 + 3\"\n",
    "minus = \"2 - 1\"\n",
    "multiply = \"2 * 3\"\n",
    "divide = \"6 // 3\"\n",
    "dividebyzero = \"2 // 0\"\n",
    "plusnospace = \"2+3\"\n",
    "invalidstr = \"a+b\"\n",
    "print(binary_op(plus))\n",
    "print(binary_op(minus))\n",
    "print(binary_op(multiply))\n",
    "print(binary_op(divide))\n",
    "print(binary_op(dividebyzero))\n",
    "print(binary_op(plusnospace))\n",
    "print(binary_op(invalidstr))"
   ]
  },
  {
   "cell_type": "code",
   "execution_count": 15,
   "metadata": {},
   "outputs": [],
   "source": [
    "# Q.2.\n",
    "\n",
    "import math\n"
   ]
  },
  {
   "cell_type": "code",
   "execution_count": 17,
   "metadata": {},
   "outputs": [],
   "source": [
    "def perimeter(ls):\n",
    "    p = 0\n",
    "    for x in range(3):\n",
    "        p += math.sqrt((ls[x][0] - ls[(x+1)%3][0])**2 + (ls[x][1] - ls[(x+1)%3][1])**2)\n",
    "    return p"
   ]
  },
  {
   "cell_type": "code",
   "execution_count": 18,
   "metadata": {},
   "outputs": [
    {
     "data": {
      "text/plain": [
       "47.07918859608948"
      ]
     },
     "execution_count": 18,
     "metadata": {},
     "output_type": "execute_result"
    }
   ],
   "source": [
    "perimeter( [ [15, 7], [5, 22], [11, 1] ] )"
   ]
  },
  {
   "cell_type": "code",
   "execution_count": 19,
   "metadata": {},
   "outputs": [
    {
     "data": {
      "text/plain": [
       "3.414213562373095"
      ]
     },
     "execution_count": 19,
     "metadata": {},
     "output_type": "execute_result"
    }
   ],
   "source": [
    "perimeter( [ [0, 0], [0, 1], [1, 0] ] )"
   ]
  },
  {
   "cell_type": "code",
   "execution_count": 20,
   "metadata": {},
   "outputs": [
    {
     "data": {
      "text/plain": [
       "68.2842712474619"
      ]
     },
     "execution_count": 20,
     "metadata": {},
     "output_type": "execute_result"
    }
   ],
   "source": [
    "perimeter( [ [-10, -10], [10, 10 ], [-10, 10] ] )"
   ]
  },
  {
   "cell_type": "code",
   "execution_count": 34,
   "metadata": {},
   "outputs": [],
   "source": [
    "# Q.3.\n",
    "\n",
    "def tallest_skyscraper(arr):\n",
    "    w, h = len(arr[0]), len(arr)\n",
    "    all_heights = [0] * w\n",
    "    for i in range(w):\n",
    "        for j in range(h):\n",
    "            all_heights[i] += arr[j][i]\n",
    "    return max(all_heights)"
   ]
  },
  {
   "cell_type": "code",
   "execution_count": 35,
   "metadata": {},
   "outputs": [
    {
     "data": {
      "text/plain": [
       "4"
      ]
     },
     "execution_count": 35,
     "metadata": {},
     "output_type": "execute_result"
    }
   ],
   "source": [
    "arr = [[0, 0, 0, 0, 0, 0],\n",
    "[0, 0, 0, 0, 1, 0],\n",
    "[0, 0, 1, 0, 1, 0],\n",
    "[0, 1, 1, 1, 1, 0],\n",
    "[1, 1, 1, 1, 1, 1]]\n",
    "\n",
    "tallest_skyscraper(arr)"
   ]
  },
  {
   "cell_type": "code",
   "execution_count": 36,
   "metadata": {},
   "outputs": [
    {
     "data": {
      "text/plain": [
       "3"
      ]
     },
     "execution_count": 36,
     "metadata": {},
     "output_type": "execute_result"
    }
   ],
   "source": [
    "tallest_skyscraper([\n",
    "[0, 0, 0, 0],\n",
    "[0, 1, 0, 0],\n",
    "[0, 1, 1, 0],\n",
    "[1, 1, 1, 1]\n",
    "])"
   ]
  },
  {
   "cell_type": "code",
   "execution_count": 37,
   "metadata": {},
   "outputs": [
    {
     "data": {
      "text/plain": [
       "4"
      ]
     },
     "execution_count": 37,
     "metadata": {},
     "output_type": "execute_result"
    }
   ],
   "source": [
    "tallest_skyscraper([\n",
    "[0, 1, 0, 0],\n",
    "[0, 1, 0, 0],\n",
    "[0, 1, 1, 0],\n",
    "[1, 1, 1, 1]\n",
    "])"
   ]
  },
  {
   "cell_type": "code",
   "execution_count": 38,
   "metadata": {},
   "outputs": [
    {
     "data": {
      "text/plain": [
       "2"
      ]
     },
     "execution_count": 38,
     "metadata": {},
     "output_type": "execute_result"
    }
   ],
   "source": [
    "tallest_skyscraper([\n",
    "[0, 0, 0, 0],\n",
    "[0, 0, 0, 0],\n",
    "[1, 1, 1, 0],\n",
    "[1, 1, 1, 1]\n",
    "])"
   ]
  },
  {
   "cell_type": "code",
   "execution_count": 1,
   "metadata": {},
   "outputs": [],
   "source": [
    "# Q.4.\n",
    "\n",
    "def bonus(days):\n",
    "    try:\n",
    "        if type(days) != int:\n",
    "            raise Exception(\"Total billable days must be an integer\")\n",
    "        if days < 0:\n",
    "            raise Exception(\"Total billable days cannot be less than 0\")\n",
    "        elif days <= 32:\n",
    "            return 0\n",
    "        elif days <= 40:\n",
    "            return (days-32)*325\n",
    "        elif days <= 48:\n",
    "            return 8*325 + (days-40)*550\n",
    "        else:\n",
    "            return 8*325 + 8*550 + (days-48)*600\n",
    "    except Exception as e:\n",
    "        print(e)"
   ]
  },
  {
   "cell_type": "code",
   "execution_count": 2,
   "metadata": {},
   "outputs": [
    {
     "name": "stdout",
     "output_type": "stream",
     "text": [
      "0\n",
      "1625\n",
      "8200\n"
     ]
    }
   ],
   "source": [
    "print(bonus(15))\n",
    "print(bonus(37))\n",
    "print(bonus(50))"
   ]
  },
  {
   "cell_type": "code",
   "execution_count": 12,
   "metadata": {},
   "outputs": [],
   "source": [
    "# Q.5.\n",
    "\n",
    "def is_disarium(num):\n",
    "    try:\n",
    "        if type(num) != int or num < 0:\n",
    "            raise Exception(\"Input number should be an integer greater than 0\")\n",
    "        s = str(num)\n",
    "        add = 0\n",
    "        for i,x in enumerate(s):\n",
    "            add += int(x)**(i+1)\n",
    "        return num == add\n",
    "    except Exception as e:\n",
    "        print(e)"
   ]
  },
  {
   "cell_type": "code",
   "execution_count": 13,
   "metadata": {},
   "outputs": [
    {
     "name": "stdout",
     "output_type": "stream",
     "text": [
      "False\n",
      "True\n",
      "False\n",
      "True\n",
      "False\n",
      "True\n"
     ]
    }
   ],
   "source": [
    "print(is_disarium(75))\n",
    "print(is_disarium(135))\n",
    "print(is_disarium(544))\n",
    "print(is_disarium(518))\n",
    "print(is_disarium(466))\n",
    "print(is_disarium(8))"
   ]
  },
  {
   "cell_type": "code",
   "execution_count": null,
   "metadata": {},
   "outputs": [],
   "source": []
  }
 ],
 "metadata": {
  "kernelspec": {
   "display_name": "Python 3",
   "language": "python",
   "name": "python3"
  },
  "language_info": {
   "codemirror_mode": {
    "name": "ipython",
    "version": 3
   },
   "file_extension": ".py",
   "mimetype": "text/x-python",
   "name": "python",
   "nbconvert_exporter": "python",
   "pygments_lexer": "ipython3",
   "version": "3.8.5"
  }
 },
 "nbformat": 4,
 "nbformat_minor": 4
}
