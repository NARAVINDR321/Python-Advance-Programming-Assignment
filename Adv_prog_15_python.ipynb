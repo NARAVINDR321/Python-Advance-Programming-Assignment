{
 "cells": [
  {
   "cell_type": "markdown",
   "metadata": {},
   "source": [
    "# Advanced Programming Assignment 15"
   ]
  },
  {
   "cell_type": "code",
   "execution_count": 25,
   "metadata": {},
   "outputs": [],
   "source": [
    "# Q.1.\n",
    "\n",
    "from collections import Counter"
   ]
  },
  {
   "cell_type": "code",
   "execution_count": null,
   "metadata": {},
   "outputs": [],
   "source": [
    "def anagram(s, l):\n",
    "    l1 = list(s.lower())\n",
    "    l2 = []\n",
    "    for x in l:\n",
    "        l2 += list(x.lower())\n",
    "    if len(l1) < len(l2):\n",
    "        return False\n",
    "    c1 = Counter(l1)\n",
    "    c2 = Counter(l2)\n",
    "    for x in c2:\n",
    "        if c1.get(x, 0) < c2[x]:\n",
    "            return False\n",
    "    return True"
   ]
  },
  {
   "cell_type": "code",
   "execution_count": 26,
   "metadata": {},
   "outputs": [
    {
     "data": {
      "text/plain": [
       "True"
      ]
     },
     "execution_count": 26,
     "metadata": {},
     "output_type": "execute_result"
    }
   ],
   "source": [
    "anagram(\"Justin Bieber\", [\"injures\", \"ebb\", \"it\"])"
   ]
  },
  {
   "cell_type": "code",
   "execution_count": 27,
   "metadata": {},
   "outputs": [
    {
     "data": {
      "text/plain": [
       "True"
      ]
     },
     "execution_count": 27,
     "metadata": {},
     "output_type": "execute_result"
    }
   ],
   "source": [
    "anagram(\"Natalie Portman\", [\"ornamental\", \"pita\"])"
   ]
  },
  {
   "cell_type": "code",
   "execution_count": 28,
   "metadata": {},
   "outputs": [
    {
     "data": {
      "text/plain": [
       "True"
      ]
     },
     "execution_count": 28,
     "metadata": {},
     "output_type": "execute_result"
    }
   ],
   "source": [
    "anagram(\"Chris Pratt\", [\"chirps\", \"rat\"])"
   ]
  },
  {
   "cell_type": "code",
   "execution_count": 29,
   "metadata": {},
   "outputs": [
    {
     "data": {
      "text/plain": [
       "False"
      ]
     },
     "execution_count": 29,
     "metadata": {},
     "output_type": "execute_result"
    }
   ],
   "source": [
    "anagram(\"Jeff Goldblum\", [\"jog\", \"meld\", \"bluffs\"])"
   ]
  },
  {
   "cell_type": "code",
   "execution_count": 48,
   "metadata": {},
   "outputs": [],
   "source": [
    "# Q.2.\n",
    "\n",
    "def leaderboards(ar):\n",
    "    return sorted(ar, key=lambda x: x[\"score\"] + 2*x[\"reputation\"], reverse=True)\n",
    "    "
   ]
  },
  {
   "cell_type": "code",
   "execution_count": 49,
   "metadata": {},
   "outputs": [
    {
     "data": {
      "text/plain": [
       "[{'name': 'c', 'score': 115, 'reputation': 30},\n",
       " {'name': 'b', 'score': 90, 'reputation': 40},\n",
       " {'name': 'a', 'score': 100, 'reputation': 20}]"
      ]
     },
     "execution_count": 49,
     "metadata": {},
     "output_type": "execute_result"
    }
   ],
   "source": [
    "leaderboards([\n",
    "{ \"name\": \"a\", \"score\": 100, \"reputation\": 20 },\n",
    "{ \"name\": \"b\", \"score\": 90, \"reputation\": 40 },\n",
    "{ \"name\": \"c\", \"score\": 115, \"reputation\": 30 },\n",
    "])"
   ]
  },
  {
   "cell_type": "code",
   "execution_count": 54,
   "metadata": {},
   "outputs": [],
   "source": [
    "# Q.3.\n",
    "\n",
    "def hangman(s, l):\n",
    "    if s == \"\":\n",
    "        return s\n",
    "\n",
    "    st = [\"-\"] * len(s)\n",
    "    \n",
    "    for i in range(len(s)):\n",
    "        if s[i].lower() in l:\n",
    "            st[i] = s[i]\n",
    "    return \"\".join(st)"
   ]
  },
  {
   "cell_type": "code",
   "execution_count": 55,
   "metadata": {},
   "outputs": [
    {
     "data": {
      "text/plain": [
       "'-e---o--e-'"
      ]
     },
     "execution_count": 55,
     "metadata": {},
     "output_type": "execute_result"
    }
   ],
   "source": [
    "hangman(\"helicopter\", [\"o\", \"e\", \"s\"])"
   ]
  },
  {
   "cell_type": "code",
   "execution_count": 56,
   "metadata": {},
   "outputs": [
    {
     "data": {
      "text/plain": [
       "'tree'"
      ]
     },
     "execution_count": 56,
     "metadata": {},
     "output_type": "execute_result"
    }
   ],
   "source": [
    "hangman(\"tree\", [\"r\", \"t\", \"e\"])"
   ]
  },
  {
   "cell_type": "code",
   "execution_count": 57,
   "metadata": {},
   "outputs": [
    {
     "data": {
      "text/plain": [
       "'P----n-r----'"
      ]
     },
     "execution_count": 57,
     "metadata": {},
     "output_type": "execute_result"
    }
   ],
   "source": [
    "hangman(\"Python rules\", [\"a\", \"n\", \"p\", \"r\", \"z\"])"
   ]
  },
  {
   "cell_type": "code",
   "execution_count": 59,
   "metadata": {},
   "outputs": [
    {
     "data": {
      "text/plain": [
       "'-e---a--e-y--a----y---y-'"
      ]
     },
     "execution_count": 59,
     "metadata": {},
     "output_type": "execute_result"
    }
   ],
   "source": [
    "hangman(\"He's a very naughty boy!\", [\"e\", \"a\", \"y\"])"
   ]
  },
  {
   "cell_type": "code",
   "execution_count": 68,
   "metadata": {},
   "outputs": [],
   "source": [
    "# Q.4.\n",
    "\n",
    "def max_collatz(n):\n",
    "    \n",
    "    def next_num(nu):\n",
    "        if nu % 2 == 0:\n",
    "            return nu / 2\n",
    "        return nu * 3 + 1\n",
    "    num = n\n",
    "    l = [n]\n",
    "    while num != 1:\n",
    "        num = next_num(num)\n",
    "        l.append(num)\n",
    "    return int(max(l))"
   ]
  },
  {
   "cell_type": "code",
   "execution_count": 69,
   "metadata": {},
   "outputs": [
    {
     "data": {
      "text/plain": [
       "16"
      ]
     },
     "execution_count": 69,
     "metadata": {},
     "output_type": "execute_result"
    }
   ],
   "source": [
    "max_collatz(10)"
   ]
  },
  {
   "cell_type": "code",
   "execution_count": 70,
   "metadata": {},
   "outputs": [
    {
     "data": {
      "text/plain": [
       "32"
      ]
     },
     "execution_count": 70,
     "metadata": {},
     "output_type": "execute_result"
    }
   ],
   "source": [
    "max_collatz(32)"
   ]
  },
  {
   "cell_type": "code",
   "execution_count": 71,
   "metadata": {},
   "outputs": [
    {
     "data": {
      "text/plain": [
       "256"
      ]
     },
     "execution_count": 71,
     "metadata": {},
     "output_type": "execute_result"
    }
   ],
   "source": [
    "max_collatz(85)"
   ]
  },
  {
   "cell_type": "code",
   "execution_count": 123,
   "metadata": {},
   "outputs": [],
   "source": [
    "# Q.5.\n",
    "\n",
    "def digit_sort(l):\n",
    "\n",
    "    count = {} #stores a list of elements for each digit length\n",
    "    for x in l:\n",
    "        len_x = len(str(x))\n",
    "        count[len_x] = count.get(len_x, []) + [x]\n",
    "    ans = []\n",
    "    for k in sorted(count, reverse=True):\n",
    "        if len(count[k]) > 1:\n",
    "            ar = [x for x in count[k]]\n",
    "            ans += sorted(ar)\n",
    "        else:\n",
    "            ans.append(count[k][0])\n",
    "    return ans\n",
    "    "
   ]
  },
  {
   "cell_type": "code",
   "execution_count": 124,
   "metadata": {},
   "outputs": [
    {
     "data": {
      "text/plain": [
       "[101, 23, 77, 5, 7]"
      ]
     },
     "execution_count": 124,
     "metadata": {},
     "output_type": "execute_result"
    }
   ],
   "source": [
    "digit_sort([77, 23, 5, 7, 101])"
   ]
  },
  {
   "cell_type": "code",
   "execution_count": 125,
   "metadata": {},
   "outputs": [
    {
     "data": {
      "text/plain": [
       "[444, 563, 789, 1, 2, 5, 9]"
      ]
     },
     "execution_count": 125,
     "metadata": {},
     "output_type": "execute_result"
    }
   ],
   "source": [
    "digit_sort([1, 5, 9, 2, 789, 563, 444])"
   ]
  },
  {
   "cell_type": "code",
   "execution_count": 126,
   "metadata": {},
   "outputs": [
    {
     "data": {
      "text/plain": [
       "[53219, 3772, 564, 32, 1]"
      ]
     },
     "execution_count": 126,
     "metadata": {},
     "output_type": "execute_result"
    }
   ],
   "source": [
    "digit_sort([53219, 3772, 564, 32, 1])"
   ]
  },
  {
   "cell_type": "code",
   "execution_count": null,
   "metadata": {},
   "outputs": [],
   "source": []
  }
 ],
 "metadata": {
  "kernelspec": {
   "display_name": "Python 3",
   "language": "python",
   "name": "python3"
  },
  "language_info": {
   "codemirror_mode": {
    "name": "ipython",
    "version": 3
   },
   "file_extension": ".py",
   "mimetype": "text/x-python",
   "name": "python",
   "nbconvert_exporter": "python",
   "pygments_lexer": "ipython3",
   "version": "3.8.5"
  }
 },
 "nbformat": 4,
 "nbformat_minor": 4
}
