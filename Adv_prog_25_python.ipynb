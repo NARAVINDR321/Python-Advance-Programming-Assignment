{
 "cells": [
  {
   "cell_type": "markdown",
   "metadata": {},
   "source": [
    "# Advanced Programming Assignment 25"
   ]
  },
  {
   "cell_type": "code",
   "execution_count": 23,
   "metadata": {},
   "outputs": [],
   "source": [
    "# Q.1.\n",
    "\n",
    "def repeat(lst, n):\n",
    "    orig = lst.copy()\n",
    "    for i in range(n-1):\n",
    "        lst += orig\n",
    "def add(lst, a):\n",
    "    lst.append(a)\n",
    "def remove(lst, m, n):\n",
    "    orig = lst.copy()\n",
    "    for i in range(m, n+1):\n",
    "        lst.pop(lst.index(orig[i]))\n",
    "def concat(lst, x):\n",
    "    lst.extend(x)"
   ]
  },
  {
   "cell_type": "code",
   "execution_count": 24,
   "metadata": {},
   "outputs": [
    {
     "name": "stdout",
     "output_type": "stream",
     "text": [
      "[1, 2, 3, 4, 1, 2, 3, 4, 1, 2, 3, 4]\n",
      "[1, 2, 3, 4, 1, 2, 3, 4, 1, 2, 3, 4, 1]\n",
      "[1]\n",
      "[1, 3, 4]\n"
     ]
    }
   ],
   "source": [
    "lst = [1, 2, 3, 4]\n",
    "repeat(lst, 3)\n",
    "print(lst)\n",
    "add(lst, 1)\n",
    "print(lst)\n",
    "remove(lst, 1, 12)\n",
    "print(lst)\n",
    "concat(lst, [3, 4])\n",
    "print(lst)"
   ]
  },
  {
   "cell_type": "code",
   "execution_count": 43,
   "metadata": {},
   "outputs": [],
   "source": [
    "# Q.2.\n",
    "\n",
    "def guess_score(code, guess):\n",
    "    try:\n",
    "        assert len(code) == len(guess)\n",
    "        code1 = list(code).copy()\n",
    "        ans = {\"Black\":0, \"White\":0}\n",
    "        for i in range(len(code1)):\n",
    "            if guess[i] == code[i]:\n",
    "                ans[\"Black\"] = ans.get(\"Black\", 0) + 1\n",
    "                code1[i] = \"S\" #scored already\n",
    "            elif guess[i] in code1:\n",
    "                ind = code1.index(guess[i])\n",
    "                if code1[ind] == guess[ind]:\n",
    "                    continue\n",
    "                ans[\"White\"] = ans.get(\"White\", 0) + 1\n",
    "                code1[ind] = \"S\" #scored already\n",
    "                \n",
    "        return ans      \n",
    "    except Exception as e:\n",
    "        print(e)"
   ]
  },
  {
   "cell_type": "code",
   "execution_count": 44,
   "metadata": {},
   "outputs": [
    {
     "data": {
      "text/plain": [
       "{'Black': 0, 'White': 0}"
      ]
     },
     "execution_count": 44,
     "metadata": {},
     "output_type": "execute_result"
    }
   ],
   "source": [
    "guess_score(\"1423\", \"5678\")"
   ]
  },
  {
   "cell_type": "code",
   "execution_count": 45,
   "metadata": {},
   "outputs": [
    {
     "data": {
      "text/plain": [
       "{'Black': 1, 'White': 0}"
      ]
     },
     "execution_count": 45,
     "metadata": {},
     "output_type": "execute_result"
    }
   ],
   "source": [
    "guess_score(\"1423\", \"2222\")"
   ]
  },
  {
   "cell_type": "code",
   "execution_count": 46,
   "metadata": {},
   "outputs": [
    {
     "data": {
      "text/plain": [
       "{'Black': 1, 'White': 3}"
      ]
     },
     "execution_count": 46,
     "metadata": {},
     "output_type": "execute_result"
    }
   ],
   "source": [
    "guess_score(\"1423\", \"1234\")"
   ]
  },
  {
   "cell_type": "code",
   "execution_count": 47,
   "metadata": {},
   "outputs": [
    {
     "data": {
      "text/plain": [
       "{'Black': 0, 'White': 2}"
      ]
     },
     "execution_count": 47,
     "metadata": {},
     "output_type": "execute_result"
    }
   ],
   "source": [
    "guess_score(\"1423\", \"2211\")"
   ]
  },
  {
   "cell_type": "code",
   "execution_count": 48,
   "metadata": {},
   "outputs": [],
   "source": [
    "# Q.3.\n",
    "\n",
    "def two_product(lst, N):\n",
    "    try:\n",
    "        assert type(lst) == list\n",
    "        if len(lst) <= 1:\n",
    "            print(\"Not enough numbers in list\")\n",
    "            return None\n",
    "        if len(lst) == 2:\n",
    "            if lst[0] * lst[1] == N:\n",
    "                return lst\n",
    "            else:\n",
    "                return None\n",
    "        ls1 = sorted(lst)\n",
    "        for i in range(len(ls1)):\n",
    "            x = ls1[i]\n",
    "            mid = len(lst) // 2\n",
    "            low = 0\n",
    "            high = len(lst) - 1\n",
    "            while low <= high:\n",
    "                if x * lst[mid] == N:\n",
    "                    \n",
    "                    if mid == i:\n",
    "                        # element was multiplied by itself\n",
    "                        # can search on either side for a duplicate value of x\n",
    "                        if x in lst[:mid] or x in lst[mid+1:]:\n",
    "                            # if duplicate exists, return pair\n",
    "                            return [x, x]\n",
    "                        return None\n",
    "                    else:\n",
    "                        return [x, lst[mid]]\n",
    "                if x * lst[mid] < N:                    \n",
    "                    low = mid + 1\n",
    "                else:\n",
    "                    high = mid - 1\n",
    "                mid = (low + high)//2\n",
    "        return None\n",
    "    except Exception as e:\n",
    "        print(e)\n",
    "            \n"
   ]
  },
  {
   "cell_type": "code",
   "execution_count": 49,
   "metadata": {},
   "outputs": [
    {
     "data": {
      "text/plain": [
       "[4, 5]"
      ]
     },
     "execution_count": 49,
     "metadata": {},
     "output_type": "execute_result"
    }
   ],
   "source": [
    "two_product([1, 3, -1, 4, 5], 20)"
   ]
  },
  {
   "cell_type": "code",
   "execution_count": 50,
   "metadata": {},
   "outputs": [
    {
     "data": {
      "text/plain": [
       "[2, 5]"
      ]
     },
     "execution_count": 50,
     "metadata": {},
     "output_type": "execute_result"
    }
   ],
   "source": [
    "two_product([1, 2, 3, 4, 5], 10)"
   ]
  },
  {
   "cell_type": "code",
   "execution_count": 51,
   "metadata": {},
   "outputs": [],
   "source": [
    "two_product([100, 12, 4, 1, 2], 15)"
   ]
  },
  {
   "cell_type": "code",
   "execution_count": 52,
   "metadata": {},
   "outputs": [],
   "source": [
    "two_product([1, 3, -1, 4, 5], 16) #should return None since there is only one \"4\" in list"
   ]
  },
  {
   "cell_type": "code",
   "execution_count": 53,
   "metadata": {},
   "outputs": [
    {
     "data": {
      "text/plain": [
       "[4, 4]"
      ]
     },
     "execution_count": 53,
     "metadata": {},
     "output_type": "execute_result"
    }
   ],
   "source": [
    "two_product([1, 3, -1, 4, 4], 16) #should return [4, 4]"
   ]
  },
  {
   "cell_type": "code",
   "execution_count": 54,
   "metadata": {},
   "outputs": [
    {
     "data": {
      "text/plain": [
       "[4, 4]"
      ]
     },
     "execution_count": 54,
     "metadata": {},
     "output_type": "execute_result"
    }
   ],
   "source": [
    "two_product([1, 3, 4, 4, -1], 16) #should return [4, 4]"
   ]
  },
  {
   "cell_type": "code",
   "execution_count": 87,
   "metadata": {},
   "outputs": [],
   "source": [
    "# Q.4.\n",
    "\n",
    "def sort_dates(dates, mode):\n",
    "    lst = []\n",
    "    try:\n",
    "        for x in dates:\n",
    "            date, time = x.split(\"_\")\n",
    "            dd, mm, yyyy = map(int, date.split(\"-\"))\n",
    "            HH, MM = map(int, time.split(\":\"))\n",
    "            lst.append([yyyy, mm, dd, HH, MM])\n",
    "        if mode == \"ASC\":\n",
    "            rev = False\n",
    "        else:\n",
    "            rev = True\n",
    "        ans = sorted(lst, key=lambda x: tuple(x), reverse=rev)\n",
    "        sorted_dates = []\n",
    "        for x in ans:\n",
    "            \n",
    "            date_str = str(x[2]).zfill(2) + \"-\" + str(x[1]).zfill(2) + \"-\" + str(x[0]).zfill(4) + \"_\" + str(x[3]).zfill(2) + \":\" + str(x[4]).zfill(2)\n",
    "            sorted_dates.append(date_str)\n",
    "        return sorted_dates\n",
    "    except Exception as e:\n",
    "        print(e)"
   ]
  },
  {
   "cell_type": "code",
   "execution_count": 88,
   "metadata": {},
   "outputs": [
    {
     "data": {
      "text/plain": [
       "['10-02-2016_12:30', '10-02-2018_12:15', '10-02-2018_12:30']"
      ]
     },
     "execution_count": 88,
     "metadata": {},
     "output_type": "execute_result"
    }
   ],
   "source": [
    "sort_dates([\"10-02-2018_12:30\", \"10-02-2016_12:30\", \"10-02-2018_12:15\"],\"ASC\")"
   ]
  },
  {
   "cell_type": "code",
   "execution_count": 89,
   "metadata": {},
   "outputs": [
    {
     "data": {
      "text/plain": [
       "['10-02-2018_12:30', '10-02-2018_12:15', '10-02-2016_12:30']"
      ]
     },
     "execution_count": 89,
     "metadata": {},
     "output_type": "execute_result"
    }
   ],
   "source": [
    "sort_dates([\"10-02-2018_12:30\", \"10-02-2016_12:30\", \"10-02-2018_12:15\"], \"DSC\")"
   ]
  },
  {
   "cell_type": "code",
   "execution_count": 90,
   "metadata": {},
   "outputs": [
    {
     "data": {
      "text/plain": [
       "['01-01-1999_00:55', '09-02-2000_10:03', '10-02-2000_18:29']"
      ]
     },
     "execution_count": 90,
     "metadata": {},
     "output_type": "execute_result"
    }
   ],
   "source": [
    "sort_dates([\"09-02-2000_10:03\", \"10-02-2000_18:29\", \"01-01-1999_00:55\"], \"ASC\")"
   ]
  },
  {
   "cell_type": "code",
   "execution_count": 106,
   "metadata": {},
   "outputs": [],
   "source": [
    "# Q.5.\n",
    "\n",
    "def same_vowel_group(words):\n",
    "    vowels = \"aeiou\"\n",
    "    reqd = set(vowels).intersection(words[0])\n",
    "    ans = [words[0]]\n",
    "    for i in range(1, len(words)):\n",
    "        if reqd == set(vowels).intersection(words[i]):\n",
    "            ans.append(words[i])\n",
    "    return ans"
   ]
  },
  {
   "cell_type": "code",
   "execution_count": 107,
   "metadata": {},
   "outputs": [
    {
     "data": {
      "text/plain": [
       "['toe', 'ocelot']"
      ]
     },
     "execution_count": 107,
     "metadata": {},
     "output_type": "execute_result"
    }
   ],
   "source": [
    "same_vowel_group([\"toe\", \"ocelot\", \"maniac\"])"
   ]
  },
  {
   "cell_type": "code",
   "execution_count": 108,
   "metadata": {},
   "outputs": [
    {
     "data": {
      "text/plain": [
       "['many']"
      ]
     },
     "execution_count": 108,
     "metadata": {},
     "output_type": "execute_result"
    }
   ],
   "source": [
    "same_vowel_group([\"many\", \"carriage\", \"emit\", \"apricot\", \"animal\"])"
   ]
  },
  {
   "cell_type": "code",
   "execution_count": 109,
   "metadata": {},
   "outputs": [
    {
     "data": {
      "text/plain": [
       "['hoops', 'bot', 'bottom']"
      ]
     },
     "execution_count": 109,
     "metadata": {},
     "output_type": "execute_result"
    }
   ],
   "source": [
    "same_vowel_group([\"hoops\", \"chuff\", \"bot\", \"bottom\"])"
   ]
  },
  {
   "cell_type": "code",
   "execution_count": 1,
   "metadata": {},
   "outputs": [],
   "source": [
    "# Q.6.\n",
    "\n",
    "from functools import reduce\n",
    "                "
   ]
  },
  {
   "cell_type": "code",
   "execution_count": 5,
   "metadata": {},
   "outputs": [],
   "source": [
    "def lcm_of_list(l):\n",
    "    def lcm(a, b):\n",
    "        a_orig = a\n",
    "        b_orig = b\n",
    "        while b != 0:\n",
    "            a, b = b, a % b\n",
    "        return a_orig * b_orig // a\n",
    "                \n",
    "    return reduce(lcm, l)"
   ]
  },
  {
   "cell_type": "code",
   "execution_count": 6,
   "metadata": {},
   "outputs": [
    {
     "data": {
      "text/plain": [
       "2520"
      ]
     },
     "execution_count": 6,
     "metadata": {},
     "output_type": "execute_result"
    }
   ],
   "source": [
    "lcm_of_list([1, 2, 3, 4, 5, 6, 7, 8, 9, 10])"
   ]
  },
  {
   "cell_type": "code",
   "execution_count": 7,
   "metadata": {},
   "outputs": [
    {
     "data": {
      "text/plain": [
       "27965340"
      ]
     },
     "execution_count": 7,
     "metadata": {},
     "output_type": "execute_result"
    }
   ],
   "source": [
    "lcm_of_list([13, 6, 17, 18, 19, 20, 37])"
   ]
  },
  {
   "cell_type": "code",
   "execution_count": 8,
   "metadata": {},
   "outputs": [
    {
     "data": {
      "text/plain": [
       "2333760"
      ]
     },
     "execution_count": 8,
     "metadata": {},
     "output_type": "execute_result"
    }
   ],
   "source": [
    "lcm_of_list([44, 64, 12, 17, 65])"
   ]
  },
  {
   "cell_type": "code",
   "execution_count": null,
   "metadata": {},
   "outputs": [],
   "source": []
  }
 ],
 "metadata": {
  "kernelspec": {
   "display_name": "Python 3",
   "language": "python",
   "name": "python3"
  },
  "language_info": {
   "codemirror_mode": {
    "name": "ipython",
    "version": 3
   },
   "file_extension": ".py",
   "mimetype": "text/x-python",
   "name": "python",
   "nbconvert_exporter": "python",
   "pygments_lexer": "ipython3",
   "version": "3.8.5"
  }
 },
 "nbformat": 4,
 "nbformat_minor": 4
}
