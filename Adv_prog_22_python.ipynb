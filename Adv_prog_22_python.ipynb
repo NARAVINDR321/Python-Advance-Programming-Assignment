{
 "cells": [
  {
   "cell_type": "markdown",
   "metadata": {},
   "source": [
    "# Advanced Programming Assignment 22"
   ]
  },
  {
   "cell_type": "code",
   "execution_count": 47,
   "metadata": {},
   "outputs": [],
   "source": [
    "# Q.1.\n",
    "\n",
    "class Smoothie:\n",
    "    costs = {\"Strawberries\" : 1.50, \"Banana\" : 0.50, \"Mango\" : 2.50, \"Blueberries\" : 1.00, \n",
    "                 \"Raspberries\" : 1.00, \"Apple\" : 1.75, \"Pineapple\" : 3.50}\n",
    "    def __init__(self, ingredients):\n",
    "        self.ingredients = ingredients\n",
    "    def get_cost(self):\n",
    "        \n",
    "        cost = 0\n",
    "        for i in self.ingredients:\n",
    "            cost += Smoothie.costs[i]\n",
    "        return \"$\" + str(format(cost, '0.2f'))\n",
    "    def get_price(self):\n",
    "        price = round(float(self.get_cost()[1:]) * 2.5, 2)\n",
    "        return \"$\" + str(price)\n",
    "    def get_name(self):\n",
    "        ing = self.ingredients\n",
    "        if len(ing) == 1:\n",
    "            return ing[0] + \" Smoothie\"\n",
    "        alph = sorted(ing)\n",
    "        ans = \"\"\n",
    "        for x in alph:\n",
    "            if x[-7:] == \"berries\":\n",
    "                ans += x[:-7] + \"berry \"\n",
    "            else:\n",
    "                ans += x + \" \"\n",
    "        return ans + \"Fusion\"\n",
    "    "
   ]
  },
  {
   "cell_type": "code",
   "execution_count": 48,
   "metadata": {},
   "outputs": [],
   "source": [
    "s1 = Smoothie([\"Banana\"])"
   ]
  },
  {
   "cell_type": "code",
   "execution_count": 49,
   "metadata": {},
   "outputs": [
    {
     "data": {
      "text/plain": [
       "['Banana']"
      ]
     },
     "execution_count": 49,
     "metadata": {},
     "output_type": "execute_result"
    }
   ],
   "source": [
    "s1.ingredients"
   ]
  },
  {
   "cell_type": "code",
   "execution_count": 50,
   "metadata": {},
   "outputs": [
    {
     "data": {
      "text/plain": [
       "'$0.50'"
      ]
     },
     "execution_count": 50,
     "metadata": {},
     "output_type": "execute_result"
    }
   ],
   "source": [
    "s1.get_cost()"
   ]
  },
  {
   "cell_type": "code",
   "execution_count": 51,
   "metadata": {},
   "outputs": [
    {
     "data": {
      "text/plain": [
       "'$1.25'"
      ]
     },
     "execution_count": 51,
     "metadata": {},
     "output_type": "execute_result"
    }
   ],
   "source": [
    "s1.get_price()"
   ]
  },
  {
   "cell_type": "code",
   "execution_count": 52,
   "metadata": {},
   "outputs": [
    {
     "data": {
      "text/plain": [
       "'Banana Smoothie'"
      ]
     },
     "execution_count": 52,
     "metadata": {},
     "output_type": "execute_result"
    }
   ],
   "source": [
    "s1.get_name()"
   ]
  },
  {
   "cell_type": "code",
   "execution_count": 53,
   "metadata": {},
   "outputs": [],
   "source": [
    "s2 = Smoothie([\"Raspberries\", \"Strawberries\", \"Blueberries\"])"
   ]
  },
  {
   "cell_type": "code",
   "execution_count": 54,
   "metadata": {},
   "outputs": [
    {
     "data": {
      "text/plain": [
       "['Raspberries', 'Strawberries', 'Blueberries']"
      ]
     },
     "execution_count": 54,
     "metadata": {},
     "output_type": "execute_result"
    }
   ],
   "source": [
    "s2.ingredients"
   ]
  },
  {
   "cell_type": "code",
   "execution_count": 55,
   "metadata": {},
   "outputs": [
    {
     "data": {
      "text/plain": [
       "'$3.50'"
      ]
     },
     "execution_count": 55,
     "metadata": {},
     "output_type": "execute_result"
    }
   ],
   "source": [
    "s2.get_cost()"
   ]
  },
  {
   "cell_type": "code",
   "execution_count": 56,
   "metadata": {},
   "outputs": [
    {
     "data": {
      "text/plain": [
       "'$8.75'"
      ]
     },
     "execution_count": 56,
     "metadata": {},
     "output_type": "execute_result"
    }
   ],
   "source": [
    "s2.get_price()"
   ]
  },
  {
   "cell_type": "code",
   "execution_count": 57,
   "metadata": {},
   "outputs": [
    {
     "data": {
      "text/plain": [
       "'Blueberry Raspberry Strawberry Fusion'"
      ]
     },
     "execution_count": 57,
     "metadata": {},
     "output_type": "execute_result"
    }
   ],
   "source": [
    "s2.get_name()"
   ]
  },
  {
   "cell_type": "code",
   "execution_count": 87,
   "metadata": {},
   "outputs": [],
   "source": [
    "# Q.2.\n",
    "\n",
    "class Testpaper:\n",
    "    def __init__(self, subject, markscheme, pass_mark):\n",
    "        self.subject = subject\n",
    "        self.markscheme = markscheme\n",
    "        self.pass_mark = pass_mark"
   ]
  },
  {
   "cell_type": "code",
   "execution_count": 94,
   "metadata": {},
   "outputs": [],
   "source": [
    "class Student:\n",
    "    def __init__(self):\n",
    "        self.tests_taken = \"No tests taken\"\n",
    "    def take_test(self, testpaper, answers):\n",
    "        if self.tests_taken == \"No tests taken\":\n",
    "            self.tests_taken = {}\n",
    "        scheme = testpaper.markscheme\n",
    "        total = len(scheme)\n",
    "        score = 0\n",
    "        for i in range(len(answers)):\n",
    "            if answers[i] == scheme[i]:\n",
    "                score += 1\n",
    "        percentage = score/total * 100\n",
    "        percentage = round(percentage, 0)\n",
    "        if percentage >= float(testpaper.pass_mark[:-1]):            \n",
    "            value = \"Passed! (\" + str(int(percentage)) + \"%)\"\n",
    "        else:\n",
    "            value = \"Failed! (\" + str(int(percentage)) + \"%)\"\n",
    "        self.tests_taken[testpaper.subject] = value\n"
   ]
  },
  {
   "cell_type": "code",
   "execution_count": 95,
   "metadata": {},
   "outputs": [],
   "source": [
    "student1 = Student()\n",
    "student2 = Student()"
   ]
  },
  {
   "cell_type": "code",
   "execution_count": 96,
   "metadata": {},
   "outputs": [
    {
     "data": {
      "text/plain": [
       "'No tests taken'"
      ]
     },
     "execution_count": 96,
     "metadata": {},
     "output_type": "execute_result"
    }
   ],
   "source": [
    "student1.tests_taken"
   ]
  },
  {
   "cell_type": "code",
   "execution_count": 97,
   "metadata": {},
   "outputs": [],
   "source": [
    "paper1 = Testpaper(\"Maths\", [\"1A\", \"2C\", \"3D\", \"4A\", \"5A\"], \"60%\")\n",
    "paper2 = Testpaper(\"Chemistry\", [\"1C\", \"2C\", \"3D\", \"4A\"], \"75%\")\n",
    "paper3 = Testpaper(\"Computing\", [\"1D\", \"2C\", \"3C\", \"4B\", \"5D\", \"6C\", \"7A\"],\n",
    "\"75%\")"
   ]
  },
  {
   "cell_type": "code",
   "execution_count": 98,
   "metadata": {},
   "outputs": [
    {
     "data": {
      "text/plain": [
       "{'Maths': 'Passed! (80%)'}"
      ]
     },
     "execution_count": 98,
     "metadata": {},
     "output_type": "execute_result"
    }
   ],
   "source": [
    "student1.take_test(paper1, [\"1A\", \"2D\", \"3D\", \"4A\", \"5A\"])\n",
    "student1.tests_taken"
   ]
  },
  {
   "cell_type": "code",
   "execution_count": 99,
   "metadata": {},
   "outputs": [
    {
     "data": {
      "text/plain": [
       "{'Chemistry': 'Failed! (25%)', 'Computing': 'Failed! (43%)'}"
      ]
     },
     "execution_count": 99,
     "metadata": {},
     "output_type": "execute_result"
    }
   ],
   "source": [
    "student2.take_test(paper2, [\"1C\", \"2D\", \"3A\", \"4C\"])\n",
    "student2.take_test(paper3, [\"1A\", \"2C\", \"3A\", \"4C\", \"5D\", \"6C\", \"7B\"])\n",
    "student2.tests_taken"
   ]
  },
  {
   "cell_type": "code",
   "execution_count": 107,
   "metadata": {},
   "outputs": [],
   "source": [
    "# Q.3.\n",
    "\n",
    "class Train:\n",
    "    def __init__(self, stations, start_time):\n",
    "        self.stations = stations\n",
    "        self.expected_time = start_time\n",
    "def manage_delays(train, station, delay):\n",
    "    if station in train.stations:\n",
    "        t = list(map(int, train.expected_time.split(\":\")))\n",
    "        if len(t) == 3:\n",
    "            ts = t[0] * 3600 + t[1] * 60 + t[2]\n",
    "        elif len(t) == 2:\n",
    "            ts = t[0] * 60 + t[1]\n",
    "        elif len(t) == 1:\n",
    "            ts = t[0]\n",
    "        ts += delay\n",
    "        h = ts // 3600\n",
    "        rem = ts % 3600\n",
    "        m = rem // 60\n",
    "        s = rem % 60\n",
    "        if h == 0:\n",
    "            train.expected_time = str(m) + \":\" + str(s)\n",
    "        else:\n",
    "            train.expected_time = str(h) + \":\" + str(m) + \":\" + str(s)\n"
   ]
  },
  {
   "cell_type": "code",
   "execution_count": 108,
   "metadata": {},
   "outputs": [],
   "source": [
    "trains = [\n",
    "Train([\"Townsville\", \"Suburbia\", \"Urbantska\"], \"13:04\"),\n",
    "Train([\"Farmsdale\", \"Suburbia\", \"Lakeside Valley\"], \"13:20\"),\n",
    "Train([\"Suburbia\", \"Townsville\", \"Lakeside Valley\"], \"13:22\")\n",
    "]"
   ]
  },
  {
   "cell_type": "code",
   "execution_count": 110,
   "metadata": {},
   "outputs": [],
   "source": [
    "for t in trains:\n",
    "    manage_delays(t, \"Lakeside Valley\", 60)"
   ]
  },
  {
   "cell_type": "code",
   "execution_count": 111,
   "metadata": {},
   "outputs": [
    {
     "data": {
      "text/plain": [
       "'13:04'"
      ]
     },
     "execution_count": 111,
     "metadata": {},
     "output_type": "execute_result"
    }
   ],
   "source": [
    "trains[0].expected_time"
   ]
  },
  {
   "cell_type": "code",
   "execution_count": 113,
   "metadata": {},
   "outputs": [
    {
     "data": {
      "text/plain": [
       "'14:20'"
      ]
     },
     "execution_count": 113,
     "metadata": {},
     "output_type": "execute_result"
    }
   ],
   "source": [
    "trains[1].expected_time"
   ]
  },
  {
   "cell_type": "code",
   "execution_count": 114,
   "metadata": {},
   "outputs": [
    {
     "data": {
      "text/plain": [
       "'14:22'"
      ]
     },
     "execution_count": 114,
     "metadata": {},
     "output_type": "execute_result"
    }
   ],
   "source": [
    "trains[2].expected_time"
   ]
  },
  {
   "cell_type": "code",
   "execution_count": 125,
   "metadata": {},
   "outputs": [],
   "source": [
    "# Q.4.\n",
    "\n",
    "def mine_run(track):\n",
    "    vel = 0\n",
    "    last = len(track) - 1\n",
    "    for i in range(last + 1):\n",
    "        if i == last:\n",
    "            return True\n",
    "        if vel == 0 and i > 0:\n",
    "            return i - 1\n",
    "        if track[i] == \"-->\":\n",
    "            vel = min(vel + 2.67, 8)\n",
    "        elif track[i] == \"<--\":\n",
    "            vel = max(vel - 2.67, 0)\n",
    "        elif track[i] == \"---\":\n",
    "            vel = max(vel - 1, 0)\n",
    "        "
   ]
  },
  {
   "cell_type": "code",
   "execution_count": 126,
   "metadata": {},
   "outputs": [
    {
     "data": {
      "text/plain": [
       "True"
      ]
     },
     "execution_count": 126,
     "metadata": {},
     "output_type": "execute_result"
    }
   ],
   "source": [
    "mine_run([\"-->\", \"-->\", \"-->\", \"<--\", \"<--\", \"<--\"])"
   ]
  },
  {
   "cell_type": "code",
   "execution_count": 127,
   "metadata": {},
   "outputs": [
    {
     "data": {
      "text/plain": [
       "1"
      ]
     },
     "execution_count": 127,
     "metadata": {},
     "output_type": "execute_result"
    }
   ],
   "source": [
    "mine_run([\"-->\", \"<--\", \"-->\", \"-->\", \"<-->\", \"---\"])"
   ]
  },
  {
   "cell_type": "code",
   "execution_count": 167,
   "metadata": {},
   "outputs": [],
   "source": [
    "# Q.5.\n",
    "\n",
    "class Rectangle:\n",
    "    def __init__(self, x, y, w, h):\n",
    "        self.x = x\n",
    "        self.y = y\n",
    "        self.w = w\n",
    "        self.h = h\n",
    "\n",
    "def intersecting(r1, r2):\n",
    "    r1x2 = r1.x + r1.w\n",
    "    r1y2 = r1.y - r1.h\n",
    "    r2x2 = r2.x + r2.w\n",
    "    r2y2 = r2.y - r2.h\n",
    "    if r1x2 >= r2.x:\n",
    "        if r1y2 <= r2.y:\n",
    "            return True\n",
    "        elif r2y2 <= r1.y:\n",
    "            return True\n",
    "    elif r2x2 >= r1.x:\n",
    "        if r2y2 < r1.y:\n",
    "            return True\n",
    "        elif r1y2 <= r2.y:\n",
    "            return True\n",
    "    return False"
   ]
  },
  {
   "cell_type": "code",
   "execution_count": 168,
   "metadata": {},
   "outputs": [],
   "source": [
    "a = Rectangle(10, 20, 100, 20)\n",
    "b = Rectangle(10, 40, 15, 20)\n",
    "c = Rectangle(50, 50, 20, 30)"
   ]
  },
  {
   "cell_type": "code",
   "execution_count": 169,
   "metadata": {},
   "outputs": [
    {
     "data": {
      "text/plain": [
       "True"
      ]
     },
     "execution_count": 169,
     "metadata": {},
     "output_type": "execute_result"
    }
   ],
   "source": [
    "intersecting(a, b)"
   ]
  },
  {
   "cell_type": "code",
   "execution_count": 170,
   "metadata": {},
   "outputs": [
    {
     "data": {
      "text/plain": [
       "True"
      ]
     },
     "execution_count": 170,
     "metadata": {},
     "output_type": "execute_result"
    }
   ],
   "source": [
    "intersecting(a, c)"
   ]
  },
  {
   "cell_type": "code",
   "execution_count": 171,
   "metadata": {},
   "outputs": [
    {
     "data": {
      "text/plain": [
       "True"
      ]
     },
     "execution_count": 171,
     "metadata": {},
     "output_type": "execute_result"
    }
   ],
   "source": [
    "intersecting(b, c)"
   ]
  },
  {
   "cell_type": "code",
   "execution_count": null,
   "metadata": {},
   "outputs": [],
   "source": []
  }
 ],
 "metadata": {
  "kernelspec": {
   "display_name": "Python 3",
   "language": "python",
   "name": "python3"
  },
  "language_info": {
   "codemirror_mode": {
    "name": "ipython",
    "version": 3
   },
   "file_extension": ".py",
   "mimetype": "text/x-python",
   "name": "python",
   "nbconvert_exporter": "python",
   "pygments_lexer": "ipython3",
   "version": "3.8.5"
  }
 },
 "nbformat": 4,
 "nbformat_minor": 4
}
